{
 "cells": [
  {
   "cell_type": "code",
   "execution_count": 57,
   "id": "876d117e-9133-4ab1-b682-ed1143911a11",
   "metadata": {},
   "outputs": [
    {
     "name": "stderr",
     "output_type": "stream",
     "text": [
      "Neither CUDA nor MPS are available - defaulting to CPU. Note: This module is much faster with a GPU.\n"
     ]
    },
    {
     "name": "stdout",
     "output_type": "stream",
     "text": [
      "OCR Text: {74 ~cte 6O) cJc)g' Vowooc 50z@ Acdalyz Sub Divn. (140029 ) 410y3t 2906 ELECTRICITY BILL 7., RR Number 14543E 32 Account ID 1100157649 T-32 Mtr. Rdr. Code : 1400290 a0 03  607 Name and Address TH PETROLEUM CORP (LTD) NEAR MAJESTIC BUS STATION MALLESWARAM _ BANGALORE ~72 Tariff LT2A2-N 2 Sanct. Load 0 . OOHP+10 ookw ELe_ Billng Perod:0 1 / 07 /13 -01/09 / 13 J8637 Uc= Reading Date: 09 / 10/ 13 ~rtcz B:llNumber: 1 1 00 157649 - 01/09 /2013 7ZE 72 Meter SI No. 1100157649 323 Pres. Rclg: 6 500 6 3 Prev. Rdg: 2400 =~ Gfe Constant 1 . 00 ~8? Consumption 4100 Ko.n Average 0000 GLiz~d Recorded MD: 0000 Z37 Z7 Power Factor  0000 atez 58_ Fixed Charges (Unit. Rate. Amount) 18 6 0 25 00 46 5 00 2 07 15 3 1 00 18 6 0 2 5 465 00 2 07 15 _ 00 3 1 . 00 4533 2j04 Energy Charges (Unit. Rate. Amount) 6 2 000 2 40 148 8 0 144 . 667 3 40 491 . 87 206 . 66 7 4 . 55 940 . 33 3 6 8 6 . 6 6 6 5 . 35 19723 6 6 144 . 667 3 . 40 491 . 87 ~icoca Zi_/FA.C : 0 00 4 100 00 0 . 00 0 . 00 33id Rebates. TOD charges 103 33 I-J awJX PF Penalty OC J33 Ex. LoadMD Penalty .00 Interest 200 . 00 {Z3: Others 600 . 00 Z81, Tax 1272 . 08 K : 3cz  Current Bill Amt : 2 3 769.42 14 Arrears 5000 _ 00 Credlits & Adj: 500 . 00 T7C_ 3 GOK Subsicly 0 . 00 #7773w _2,Nef Amt, Due:2 926 9.00 252 37. 03125 Due Date :15 /09 /2013 Amount to be paid ASD Amount to be paid;500 Rs Amouint to be pa id ASD Amount to be paid;500 Rs Amount to be paid ASD Amount to be paid;500 Rs 110015764929269 09/10 2013 15:42 t2 ~:\n",
      "Address Match: No match\n",
      "RR Number: 14543E\n",
      "Reading Date 09\n",
      "Account ID Match: 1100157649\n",
      "Consumption Match: 4100\n",
      "Tax Match: 1272\n",
      "Net Amount Due Match: 2\n"
     ]
    }
   ],
   "source": [
    "image = cv2.imread(\"BILL2.webp\")\n",
    "\n",
    "    # Convert the image to grayscale\n",
    "gray_image = cv2.cvtColor(image, cv2.COLOR_BGR2GRAY)\n",
    "\n",
    "# Apply some preprocessing (optional but can improve OCR accuracy)\n",
    "_, processed_image = cv2.threshold(gray_image, 150, 255, cv2.THRESH_BINARY)\n",
    "\n",
    "    # Initialize EasyOCR reader\n",
    "reader = easyocr.Reader(['en'])\n",
    "\n",
    "    # Perform OCR on the processed image\n",
    "result = reader.readtext(processed_image, detail=0)\n",
    "\n",
    "    # Join the result into a single string\n",
    "text = \" \".join(result)\n",
    "\n",
    "    # Print the OCR result to verify\n",
    "print(\"OCR Text:\", text)\n",
    "\n",
    "    # Define regex patterns for specific fields\n",
    "address_pattern = re.compile(r'Name and Address: ([\\w\\s,]+)')\n",
    "rr_pattern = re.compile(r'RR Number \\$?(\\d+\\.?\\d+[A-Za-z]*)')\n",
    "acc_pattern = re.compile(r'Account ID \\$?(\\d+\\.?\\d*)')\n",
    "amt_pattern = re.compile(r'Due:(\\d+)\\s+(\\d+)\\s+([\\d.]+)')\n",
    "consume_pattern = re.compile(r'Consumption \\$?(\\d+\\.?\\d*)')\n",
    "tax_pattern = re.compile(r'Tax \\$?(\\d+\\.?\\d*)')\n",
    "Date=re.compile(r'Reading Date:\\s+(\\d+)\\s*+/\\s*(\\d+)\\s*/\\s*(\\d)')\n",
    "    # Search for patterns in OCR text\n",
    "address = address_pattern.search(text)\n",
    "rr = rr_pattern.search(text)\n",
    "accoun = acc_pattern.search(text)\n",
    "amt = amt_pattern.search(text)\n",
    "consume = consume_pattern.search(text)\n",
    "tax = tax_pattern.search(text)\n",
    "date=Date.search(text)\n",
    "# Print the matches to verify\n",
    "print(\"Address Match:\", address.group(1) if address else \"No match\")\n",
    "print(\"RR Number:\", rr.group(1) if amount else \"No match\")\n",
    "print(\"Reading Date\", date.group(1) if date else \"No match\")\n",
    "print(\"Account ID Match:\", accoun.group(1) if date else \"No match\")\n",
    "print(\"Consumption Match:\", consume.group(1) if consume else \"No match\")\n",
    "print(\"Tax Match:\", tax.group(1) if tax else \"No match\")\n",
    "print(\"Net Amount Due Match:\", amt.group(1) if amt else \"No match\")\n"
   ]
  },
  {
   "cell_type": "code",
   "execution_count": 1,
   "id": "67b730da-21cc-4870-81ec-20d21a90d620",
   "metadata": {},
   "outputs": [],
   "source": []
  },
  {
   "cell_type": "code",
   "execution_count": 24,
   "id": "f936b2a2-5770-45a3-833d-f5842301cf23",
   "metadata": {},
   "outputs": [
    {
     "name": "stdout",
     "output_type": "stream",
     "text": [
      "['RR Number: 11011\\n', 'Amount: 1000\\n', 'Address: abcd\\n']\n",
      "RR Number: 11011\n",
      "\n",
      " 11011\n",
      "\n",
      "Amount: 1000\n",
      "\n",
      " 1000\n",
      "\n",
      "Address: abcd\n",
      "\n",
      " abcd\n",
      "\n"
     ]
    }
   ],
   "source": [
    "with open(\"file1.txt\",'r') as fd:\n",
    "    \n",
    "    content=fd.readlines()\n",
    "print(content)\n",
    "for i in range(3):\n",
    "    print(content[i])\n",
    "    parts=content[i].split(\":\")\n",
    "    print(parts[1])\n"
   ]
  },
  {
   "cell_type": "code",
   "execution_count": 32,
   "id": "f3463632-e0a5-4e5a-9bf7-b06fa5ae3740",
   "metadata": {},
   "outputs": [
    {
     "name": "stderr",
     "output_type": "stream",
     "text": [
      "Neither CUDA nor MPS are available - defaulting to CPU. Note: This module is much faster with a GPU.\n"
     ]
    },
    {
     "name": "stdout",
     "output_type": "stream",
     "text": [
      "OCR Text: MESCOM,URBAN SDO 2 Receipt Na 1110200725133 Made Cash Date 13/06/1024 01.16843 #m Type #tl RR Na VDP14F82 AlcID 723670i200 Name SUWOCHAMA VMAMAIN Paid Amount: Rs.423 {Four hundred Twrenty Threr Ort) Sec wlnisto Drawn &x Opetator THANKS FQR UUSING ATP XIcSXIi ~EASYQEY} ATP KIQSK QPEN Om AlL 365 DAYS Pay Pay Pay Yey\n"
     ]
    }
   ],
   "source": [
    "def process_image(image_path):\n",
    "    # Load the image using OpenCV\n",
    "    image = cv2.imread(\"bill.jpg\")\n",
    "\n",
    "    # Convert the image to grayscale\n",
    "    gray_image = cv2.cvtColor(image, cv2.COLOR_BGR2GRAY)\n",
    "\n",
    "    # Apply some preprocessing (optional but can improve OCR accuracy)\n",
    "    _, processed_image = cv2.threshold(gray_image, 150, 255, cv2.THRESH_BINARY)\n",
    "\n",
    "    # Initialize EasyOCR reader\n",
    "    reader = easyocr.Reader(['en'])\n",
    "\n",
    "    # Perform OCR on the processed image\n",
    "    result = reader.readtext(processed_image, detail=0)\n",
    "\n",
    "    # Join the result into a single string\n",
    "    text = \" \".join(result)\n",
    "\n",
    "    # Print the OCR result to verify\n",
    "    print(\"OCR Text:\", text)\n",
    "process_image"
   ]
  },
  {
   "cell_type": "code",
   "execution_count": 35,
   "id": "a7658e38-85ea-4aea-a415-9dfc31c7ed71",
   "metadata": {},
   "outputs": [
    {
     "name": "stdout",
     "output_type": "stream",
     "text": [
      "Page 1:\n",
      "\n",
      "\n"
     ]
    }
   ],
   "source": [
    "import fitz  # PyMuPDF\n",
    "\n",
    "# Open the PDF file\n",
    "pdf_path = 'BILL2.pdf'\n",
    "pdf_document = fitz.open(pdf_path)\n",
    "\n",
    "# Iterate through each page\n",
    "for page_num in range(len(pdf_document)):\n",
    "    page = pdf_document.load_page(page_num)\n",
    "    \n",
    "    # Extract text from the page\n",
    "    text = page.get_text()\n",
    "    \n",
    "    # Print or process the extracted text\n",
    "    print(f\"Page {page_num + 1}:\\n{text}\\n\")\n",
    "\n",
    "# Close the PDF document\n",
    "pdf_document.close()\n"
   ]
  },
  {
   "cell_type": "code",
   "execution_count": null,
   "id": "4ccb6279-3bff-48c6-833e-04d928a35e4e",
   "metadata": {},
   "outputs": [],
   "source": []
  },
  {
   "cell_type": "code",
   "execution_count": null,
   "id": "efe812e7-d3c8-4012-b001-463105c6bddf",
   "metadata": {},
   "outputs": [],
   "source": []
  }
 ],
 "metadata": {
  "kernelspec": {
   "display_name": "Python 3 (ipykernel)",
   "language": "python",
   "name": "python3"
  },
  "language_info": {
   "codemirror_mode": {
    "name": "ipython",
    "version": 3
   },
   "file_extension": ".py",
   "mimetype": "text/x-python",
   "name": "python",
   "nbconvert_exporter": "python",
   "pygments_lexer": "ipython3",
   "version": "3.11.4"
  }
 },
 "nbformat": 4,
 "nbformat_minor": 5
}
